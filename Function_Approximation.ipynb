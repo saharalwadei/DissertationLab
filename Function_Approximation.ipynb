{
  "nbformat": 4,
  "nbformat_minor": 0,
  "metadata": {
    "colab": {
      "name": "Function Approximation.ipynb",
      "provenance": [],
      "collapsed_sections": [],
      "authorship_tag": "ABX9TyO30uHOk1YvAnoWhO1epSZ+",
      "include_colab_link": true
    },
    "kernelspec": {
      "name": "python3",
      "display_name": "Python 3"
    },
    "language_info": {
      "name": "python"
    }
  },
  "cells": [
    {
      "cell_type": "markdown",
      "metadata": {
        "id": "view-in-github",
        "colab_type": "text"
      },
      "source": [
        "<a href=\"https://colab.research.google.com/github/saharalwadei/DissertationLab/blob/main/Function_Approximation.ipynb\" target=\"_parent\"><img src=\"https://colab.research.google.com/assets/colab-badge.svg\" alt=\"Open In Colab\"/></a>"
      ]
    },
    {
      "cell_type": "markdown",
      "source": [
        "### Import libraries\n"
      ],
      "metadata": {
        "id": "LTbyCqWzkdTV"
      }
    },
    {
      "cell_type": "code",
      "execution_count": 5,
      "metadata": {
        "id": "5ynTCQ7Zjcat"
      },
      "outputs": [],
      "source": [
        "import numpy as np\n",
        "import pandas as pd\n",
        "import matplotlib.pyplot as plt\n",
        "%matplotlib inline"
      ]
    },
    {
      "cell_type": "markdown",
      "source": [
        "### Global variables for the program\n"
      ],
      "metadata": {
        "id": "T-MIbuVWkh93"
      }
    },
    {
      "cell_type": "code",
      "source": [
        "N_points = 500 # Number of points for constructing function\n",
        "x_min = 1 # Min of the range of x (feature)\n",
        "x_max = 10 # Max of the range of x (feature)\n",
        "noise_mean = 0 # Mean of the Gaussian noise adder\n",
        "noise_sd = 2 # Std.Dev of the Gaussian noise adder\n",
        "ridge_alpha = tuple([10**(x) for x in range(-3,0,1) ]) # Alpha (regularization strength) of ridge regression\n",
        "lasso_eps = 0.001\n",
        "lasso_nalpha=20\n",
        "lasso_iter=1000\n",
        "degree_min = 2\n",
        "degree_max = 8"
      ],
      "metadata": {
        "id": "z7leILYEjxf2"
      },
      "execution_count": 6,
      "outputs": []
    },
    {
      "cell_type": "markdown",
      "source": [
        "### Generate feature and output vector following a non-linear function\n"
      ],
      "metadata": {
        "id": "cXMdQeoskYJY"
      }
    },
    {
      "cell_type": "markdown",
      "source": [
        "$The\\ ground\\ truth\\ or\\ originating\\ function\\ is\\ as\\ follows:\\$\n",
        "\n",
        "$y=f(x)= x^2.sin(x).e^{-0.1x}+\\psi(x)$\n",
        "\n",
        "\n",
        "$: \\psi(x) = {\\displaystyle f(x\\;|\\;\\mu ,\\sigma ^{2})={\\frac {1}{\\sqrt {2\\pi \\sigma ^{2}}}}\\;e^{-{\\frac {(x-\\mu )^{2}}{2\\sigma ^{2}}}}}$"
      ],
      "metadata": {
        "id": "Brqh8Dekj8lc"
      }
    },
    {
      "cell_type": "code",
      "source": [
        "x_smooth = np.array(np.linspace(x_min,x_max,501))"
      ],
      "metadata": {
        "id": "KfoeKxajj0-i"
      },
      "execution_count": 7,
      "outputs": []
    },
    {
      "cell_type": "code",
      "source": [
        "# Linearly spaced sample points\n",
        "X=np.array(np.linspace(x_min,x_max,N_points))\n",
        "\n",
        "# Samples drawn from uniform random distribution\n",
        "X_sample = x_min+np.random.rand(N_points)*(x_max-x_min)"
      ],
      "metadata": {
        "id": "pZ5hPa81kmCv"
      },
      "execution_count": 8,
      "outputs": []
    },
    {
      "cell_type": "code",
      "source": [
        "def func(x):\n",
        "    result = (20*x+3*x**2+0.1*x**3)*np.sin(x)*np.exp(-(1/x_max)*x)\n",
        "    return (result)"
      ],
      "metadata": {
        "id": "rSMFj6ZckoxG"
      },
      "execution_count": 9,
      "outputs": []
    },
    {
      "cell_type": "code",
      "source": [
        "noise_x = np.random.normal(loc=noise_mean,scale=noise_sd,size=N_points)"
      ],
      "metadata": {
        "id": "hUPB2UEGk0wo"
      },
      "execution_count": 10,
      "outputs": []
    },
    {
      "cell_type": "code",
      "source": [
        "y = func(X)+noise_x\n",
        "y_sampled = func(X_sample)+noise_x"
      ],
      "metadata": {
        "id": "JxzeUoIxkqxY"
      },
      "execution_count": 11,
      "outputs": []
    },
    {
      "cell_type": "code",
      "source": [
        "df = pd.DataFrame(data=X,columns=['X'])\n",
        "df['Ideal y']=df['X'].apply(func)\n",
        "df['y']=y\n",
        "df['X_sampled']=X_sample\n",
        "df['y_sampled']=y_sampled\n",
        "df.head()"
      ],
      "metadata": {
        "colab": {
          "base_uri": "https://localhost:8080/",
          "height": 206
        },
        "id": "AzXAGmlZkt4l",
        "outputId": "f41bf888-29e5-46fb-aa51-a3fd9986a744"
      },
      "execution_count": 14,
      "outputs": [
        {
          "output_type": "execute_result",
          "data": {
            "text/html": [
              "\n",
              "  <div id=\"df-47a75ac1-bd70-4b41-9f13-9527fbb35568\">\n",
              "    <div class=\"colab-df-container\">\n",
              "      <div>\n",
              "<style scoped>\n",
              "    .dataframe tbody tr th:only-of-type {\n",
              "        vertical-align: middle;\n",
              "    }\n",
              "\n",
              "    .dataframe tbody tr th {\n",
              "        vertical-align: top;\n",
              "    }\n",
              "\n",
              "    .dataframe thead th {\n",
              "        text-align: right;\n",
              "    }\n",
              "</style>\n",
              "<table border=\"1\" class=\"dataframe\">\n",
              "  <thead>\n",
              "    <tr style=\"text-align: right;\">\n",
              "      <th></th>\n",
              "      <th>X</th>\n",
              "      <th>Ideal y</th>\n",
              "      <th>y</th>\n",
              "      <th>X_sampled</th>\n",
              "      <th>y_sampled</th>\n",
              "    </tr>\n",
              "  </thead>\n",
              "  <tbody>\n",
              "    <tr>\n",
              "      <th>0</th>\n",
              "      <td>1.000000</td>\n",
              "      <td>17.588211</td>\n",
              "      <td>17.681010</td>\n",
              "      <td>3.319960</td>\n",
              "      <td>-13.034939</td>\n",
              "    </tr>\n",
              "    <tr>\n",
              "      <th>1</th>\n",
              "      <td>1.018036</td>\n",
              "      <td>18.122428</td>\n",
              "      <td>15.374198</td>\n",
              "      <td>1.220888</td>\n",
              "      <td>21.422887</td>\n",
              "    </tr>\n",
              "    <tr>\n",
              "      <th>2</th>\n",
              "      <td>1.036072</td>\n",
              "      <td>18.658563</td>\n",
              "      <td>17.956261</td>\n",
              "      <td>4.928107</td>\n",
              "      <td>-110.139524</td>\n",
              "    </tr>\n",
              "    <tr>\n",
              "      <th>3</th>\n",
              "      <td>1.054108</td>\n",
              "      <td>19.196234</td>\n",
              "      <td>15.042340</td>\n",
              "      <td>4.609903</td>\n",
              "      <td>-108.136014</td>\n",
              "    </tr>\n",
              "    <tr>\n",
              "      <th>4</th>\n",
              "      <td>1.072144</td>\n",
              "      <td>19.735056</td>\n",
              "      <td>18.650991</td>\n",
              "      <td>1.621519</td>\n",
              "      <td>33.517093</td>\n",
              "    </tr>\n",
              "  </tbody>\n",
              "</table>\n",
              "</div>\n",
              "      <button class=\"colab-df-convert\" onclick=\"convertToInteractive('df-47a75ac1-bd70-4b41-9f13-9527fbb35568')\"\n",
              "              title=\"Convert this dataframe to an interactive table.\"\n",
              "              style=\"display:none;\">\n",
              "        \n",
              "  <svg xmlns=\"http://www.w3.org/2000/svg\" height=\"24px\"viewBox=\"0 0 24 24\"\n",
              "       width=\"24px\">\n",
              "    <path d=\"M0 0h24v24H0V0z\" fill=\"none\"/>\n",
              "    <path d=\"M18.56 5.44l.94 2.06.94-2.06 2.06-.94-2.06-.94-.94-2.06-.94 2.06-2.06.94zm-11 1L8.5 8.5l.94-2.06 2.06-.94-2.06-.94L8.5 2.5l-.94 2.06-2.06.94zm10 10l.94 2.06.94-2.06 2.06-.94-2.06-.94-.94-2.06-.94 2.06-2.06.94z\"/><path d=\"M17.41 7.96l-1.37-1.37c-.4-.4-.92-.59-1.43-.59-.52 0-1.04.2-1.43.59L10.3 9.45l-7.72 7.72c-.78.78-.78 2.05 0 2.83L4 21.41c.39.39.9.59 1.41.59.51 0 1.02-.2 1.41-.59l7.78-7.78 2.81-2.81c.8-.78.8-2.07 0-2.86zM5.41 20L4 18.59l7.72-7.72 1.47 1.35L5.41 20z\"/>\n",
              "  </svg>\n",
              "      </button>\n",
              "      \n",
              "  <style>\n",
              "    .colab-df-container {\n",
              "      display:flex;\n",
              "      flex-wrap:wrap;\n",
              "      gap: 12px;\n",
              "    }\n",
              "\n",
              "    .colab-df-convert {\n",
              "      background-color: #E8F0FE;\n",
              "      border: none;\n",
              "      border-radius: 50%;\n",
              "      cursor: pointer;\n",
              "      display: none;\n",
              "      fill: #1967D2;\n",
              "      height: 32px;\n",
              "      padding: 0 0 0 0;\n",
              "      width: 32px;\n",
              "    }\n",
              "\n",
              "    .colab-df-convert:hover {\n",
              "      background-color: #E2EBFA;\n",
              "      box-shadow: 0px 1px 2px rgba(60, 64, 67, 0.3), 0px 1px 3px 1px rgba(60, 64, 67, 0.15);\n",
              "      fill: #174EA6;\n",
              "    }\n",
              "\n",
              "    [theme=dark] .colab-df-convert {\n",
              "      background-color: #3B4455;\n",
              "      fill: #D2E3FC;\n",
              "    }\n",
              "\n",
              "    [theme=dark] .colab-df-convert:hover {\n",
              "      background-color: #434B5C;\n",
              "      box-shadow: 0px 1px 3px 1px rgba(0, 0, 0, 0.15);\n",
              "      filter: drop-shadow(0px 1px 2px rgba(0, 0, 0, 0.3));\n",
              "      fill: #FFFFFF;\n",
              "    }\n",
              "  </style>\n",
              "\n",
              "      <script>\n",
              "        const buttonEl =\n",
              "          document.querySelector('#df-47a75ac1-bd70-4b41-9f13-9527fbb35568 button.colab-df-convert');\n",
              "        buttonEl.style.display =\n",
              "          google.colab.kernel.accessAllowed ? 'block' : 'none';\n",
              "\n",
              "        async function convertToInteractive(key) {\n",
              "          const element = document.querySelector('#df-47a75ac1-bd70-4b41-9f13-9527fbb35568');\n",
              "          const dataTable =\n",
              "            await google.colab.kernel.invokeFunction('convertToInteractive',\n",
              "                                                     [key], {});\n",
              "          if (!dataTable) return;\n",
              "\n",
              "          const docLinkHtml = 'Like what you see? Visit the ' +\n",
              "            '<a target=\"_blank\" href=https://colab.research.google.com/notebooks/data_table.ipynb>data table notebook</a>'\n",
              "            + ' to learn more about interactive tables.';\n",
              "          element.innerHTML = '';\n",
              "          dataTable['output_type'] = 'display_data';\n",
              "          await google.colab.output.renderOutput(dataTable, element);\n",
              "          const docLink = document.createElement('div');\n",
              "          docLink.innerHTML = docLinkHtml;\n",
              "          element.appendChild(docLink);\n",
              "        }\n",
              "      </script>\n",
              "    </div>\n",
              "  </div>\n",
              "  "
            ],
            "text/plain": [
              "          X    Ideal y          y  X_sampled   y_sampled\n",
              "0  1.000000  17.588211  17.681010   3.319960  -13.034939\n",
              "1  1.018036  18.122428  15.374198   1.220888   21.422887\n",
              "2  1.036072  18.658563  17.956261   4.928107 -110.139524\n",
              "3  1.054108  19.196234  15.042340   4.609903 -108.136014\n",
              "4  1.072144  19.735056  18.650991   1.621519   33.517093"
            ]
          },
          "metadata": {},
          "execution_count": 14
        }
      ]
    },
    {
      "cell_type": "markdown",
      "source": [
        "### Plot the function(s), both the ideal characteristic and the observed output (with process and observation noise)"
      ],
      "metadata": {
        "id": "onT9uWonk8S4"
      }
    },
    {
      "cell_type": "code",
      "source": [
        "df.plot.scatter('X','Ideal y',title='Ideal y',grid=True,edgecolors=(0,0,0),c='blue',s=4,figsize=(10,5))\n",
        "plt.plot(x_smooth,func(x_smooth),'k')"
      ],
      "metadata": {
        "colab": {
          "base_uri": "https://localhost:8080/",
          "height": 367
        },
        "id": "Ih4hx_ULk4dc",
        "outputId": "e0014ec7-471b-4d5e-d9d9-cea526220e7e"
      },
      "execution_count": 15,
      "outputs": [
        {
          "output_type": "execute_result",
          "data": {
            "text/plain": [
              "[<matplotlib.lines.Line2D at 0x7f6fc8404c50>]"
            ]
          },
          "metadata": {},
          "execution_count": 15
        },
        {
          "output_type": "display_data",
          "data": {
            "image/png": "[encoded data removed]",
            "text/plain": [
              "<Figure size 720x360 with 1 Axes>"
            ]
          },
          "metadata": {
            "needs_background": "light"
          }
        }
      ]
    },
    {
      "cell_type": "code",
      "source": [
        "df.plot.scatter('X_sampled',y='y_sampled',title='Randomly sampled y',\n",
        "                grid=True,edgecolors=(0,0,0),c='orange',s=40,figsize=(10,5))\n",
        "plt.plot(x_smooth,func(x_smooth),'k')"
      ],
      "metadata": {
        "colab": {
          "base_uri": "https://localhost:8080/",
          "height": 368
        },
        "id": "qzjXmwglk_bt",
        "outputId": "5ffeb0f3-8ef1-4f50-fb97-c7d681cc36e6"
      },
      "execution_count": 16,
      "outputs": [
        {
          "output_type": "execute_result",
          "data": {
            "text/plain": [
              "[<matplotlib.lines.Line2D at 0x7f6fc7efcc50>]"
            ]
          },
          "metadata": {},
          "execution_count": 16
        },
        {
          "output_type": "display_data",
          "data": {
            "image/png": "[encoded data removed]",
            "text/plain": [
              "<Figure size 720x360 with 1 Axes>"
            ]
          },
          "metadata": {
            "needs_background": "light"
          }
        }
      ]
    },
    {
      "cell_type": "markdown",
      "source": [
        "### More Libraries"
      ],
      "metadata": {
        "id": "FQ8Z5752WXOc"
      }
    },
    {
      "cell_type": "code",
      "source": [
        "from sklearn.preprocessing import PolynomialFeatures\n",
        "from sklearn.model_selection import train_test_split"
      ],
      "metadata": {
        "id": "IAfPE3oEWaQE"
      },
      "execution_count": 17,
      "outputs": []
    },
    {
      "cell_type": "markdown",
      "source": [
        "## Neural network for regression\n",
        "### Import and declaration of variables"
      ],
      "metadata": {
        "id": "cmdzqMqCljQB"
      }
    },
    {
      "cell_type": "code",
      "source": [
        "import tensorflow as tf"
      ],
      "metadata": {
        "id": "V7X4v2lDWwvD"
      },
      "execution_count": 18,
      "outputs": []
    },
    {
      "cell_type": "code",
      "source": [
        "learning_rate = 0.000001\n",
        "training_epochs = 20000\n",
        "\n",
        "n_input = 1  # Number of features\n",
        "n_output = 1  # Regression output is a number only\n",
        "\n",
        "n_hidden_layer = 35 # layer number of features"
      ],
      "metadata": {
        "id": "g-Z-4xMYW4MX"
      },
      "execution_count": 19,
      "outputs": []
    },
    {
      "cell_type": "code",
      "source": [
        "X_train, X_test, y_train, y_test = train_test_split(df['X'], df['y'], test_size=0.33)\n",
        "\n",
        "X_train=X_train.values.reshape(X_train.size,1)\n",
        "y_train=y_train.values.reshape(y_train.size,1)\n",
        "X_test=X_test.values.reshape(X_test.size,1)\n",
        "y_test=y_test.values.reshape(y_test.size,1)\n",
        "\n",
        "from sklearn import preprocessing\n",
        "X_scaled = preprocessing.scale(X_train)\n",
        "y_scaled = preprocessing.scale(y_train)"
      ],
      "metadata": {
        "id": "z-cwvkpKlFks"
      },
      "execution_count": 20,
      "outputs": []
    },
    {
      "cell_type": "code",
      "source": [
        "X_scaled.shape"
      ],
      "metadata": {
        "colab": {
          "base_uri": "https://localhost:8080/"
        },
        "id": "DZjPmOxxe4J9",
        "outputId": "df490557-6991-457f-9cbc-c046397ddca7"
      },
      "execution_count": 21,
      "outputs": [
        {
          "output_type": "execute_result",
          "data": {
            "text/plain": [
              "(335, 1)"
            ]
          },
          "metadata": {},
          "execution_count": 21
        }
      ]
    },
    {
      "cell_type": "code",
      "source": [
        "# Imports\n",
        "import numpy as np\n",
        "from tensorflow import keras\n",
        "from keras.models import Sequential\n",
        "from keras.layers.core import Dense, Dropout, Activation\n",
        "#from keras.optimizers import Adam\n",
        "from keras.utils import np_utils\n",
        "\n",
        "# Building the model\n",
        "model = Sequential()\n",
        "model.add(Dense(25, activation='linear', input_dim=1))\n",
        "#model.add(Dropout(.2))\n",
        "model.add(Dense(25, activation='linear'))\n",
        "#model.add(Dropout(.1))\n",
        "model.add(Dense(25, activation='linear'))\n",
        "model.add(Dense(25, activation='linear'))\n",
        "model.add(Dense(1, activation='linear'))\n",
        "\n",
        "optimizer = tf.keras.optimizers.Adam()\n",
        "\n",
        "# Compiling the model\n",
        "#sgd = SGD(lr=0.001, decay=0, momentum=0.9, nesterov=True)\n",
        "model.compile(loss = 'mean_squared_error', optimizer=optimizer)\n",
        "model.summary()"
      ],
      "metadata": {
        "colab": {
          "base_uri": "https://localhost:8080/"
        },
        "id": "uAlLtHBEXU6M",
        "outputId": "23a4dc3e-974f-4ba4-8490-cd4c52e710ed"
      },
      "execution_count": 35,
      "outputs": [
        {
          "output_type": "stream",
          "name": "stdout",
          "text": [
            "Model: \"sequential_5\"\n",
            "_________________________________________________________________\n",
            " Layer (type)                Output Shape              Param #   \n",
            "=================================================================\n",
            " dense_25 (Dense)            (None, 25)                50        \n",
            "                                                                 \n",
            " dense_26 (Dense)            (None, 25)                650       \n",
            "                                                                 \n",
            " dense_27 (Dense)            (None, 25)                650       \n",
            "                                                                 \n",
            " dense_28 (Dense)            (None, 25)                650       \n",
            "                                                                 \n",
            " dense_29 (Dense)            (None, 1)                 26        \n",
            "                                                                 \n",
            "=================================================================\n",
            "Total params: 2,026\n",
            "Trainable params: 2,026\n",
            "Non-trainable params: 0\n",
            "_________________________________________________________________\n"
          ]
        }
      ]
    },
    {
      "cell_type": "code",
      "source": [
        "model.fit(X_scaled, y_scaled, epochs=2000, verbose=0)"
      ],
      "metadata": {
        "colab": {
          "base_uri": "https://localhost:8080/"
        },
        "id": "hANCD36MfOTW",
        "outputId": "a214941f-82ab-42a9-c16f-1a54f17428cc"
      },
      "execution_count": 36,
      "outputs": [
        {
          "output_type": "execute_result",
          "data": {
            "text/plain": [
              "<keras.callbacks.History at 0x7f6f4e17ad10>"
            ]
          },
          "metadata": {},
          "execution_count": 36
        }
      ]
    },
    {
      "cell_type": "code",
      "source": [
        "score = model.evaluate(X_test, y_test)\n",
        "score"
      ],
      "metadata": {
        "colab": {
          "base_uri": "https://localhost:8080/"
        },
        "id": "PlFNukcagB4p",
        "outputId": "7b415f24-0273-464c-ed39-41755135fa0d"
      },
      "execution_count": 37,
      "outputs": [
        {
          "output_type": "stream",
          "name": "stdout",
          "text": [
            "6/6 [==============================] - 0s 2ms/step - loss: 8093.6196\n"
          ]
        },
        {
          "output_type": "execute_result",
          "data": {
            "text/plain": [
              "8093.61962890625"
            ]
          },
          "metadata": {},
          "execution_count": 37
        }
      ]
    },
    {
      "cell_type": "code",
      "source": [
        "yhat=model.predict(X_test)\n",
        "plt.scatter(yhat,y_test)"
      ],
      "metadata": {
        "colab": {
          "base_uri": "https://localhost:8080/",
          "height": 282
        },
        "id": "O84RC4m1gHDU",
        "outputId": "5a9a092a-120c-45e0-c762-ecc8a977aac9"
      },
      "execution_count": 38,
      "outputs": [
        {
          "output_type": "execute_result",
          "data": {
            "text/plain": [
              "<matplotlib.collections.PathCollection at 0x7f6f4e15f810>"
            ]
          },
          "metadata": {},
          "execution_count": 38
        },
        {
          "output_type": "display_data",
          "data": {
            "image/png": "[encoded data removed]",
            "text/plain": [
              "<Figure size 432x288 with 1 Axes>"
            ]
          },
          "metadata": {
            "needs_background": "light"
          }
        }
      ]
    },
    {
      "cell_type": "code",
      "source": [
        "# Creating a model\n",
        "from keras.models import Sequential\n",
        "from keras.layers import Dense\n",
        "\n",
        "# Custom activation function\n",
        "from keras.layers import Activation\n",
        "from keras import backend as K\n",
        "from keras.utils.generic_utils import get_custom_objects\n",
        "\n",
        "\n",
        "def custom_activation(x):\n",
        "    return tf.math.sin(x)\n",
        "\n",
        "get_custom_objects().update({'custom_activation': Activation(custom_activation)})\n",
        "\n",
        "# Usage\n",
        "model = Sequential()\n",
        "model.add(Dense(32, input_dim=784))\n",
        "model.add(Activation(custom_activation, name='SpecialActivation'))\n",
        "print(model.summary())"
      ],
      "metadata": {
        "colab": {
          "base_uri": "https://localhost:8080/"
        },
        "id": "sh4QkEnuPjlb",
        "outputId": "9b95d7db-6d70-416d-ccc4-1ad50cb8d688"
      },
      "execution_count": 42,
      "outputs": [
        {
          "output_type": "stream",
          "name": "stdout",
          "text": [
            "Model: \"sequential_9\"\n",
            "_________________________________________________________________\n",
            " Layer (type)                Output Shape              Param #   \n",
            "=================================================================\n",
            " dense_33 (Dense)            (None, 32)                25120     \n",
            "                                                                 \n",
            " SpecialActivation (Activati  (None, 32)               0         \n",
            " on)                                                             \n",
            "                                                                 \n",
            "=================================================================\n",
            "Total params: 25,120\n",
            "Trainable params: 25,120\n",
            "Non-trainable params: 0\n",
            "_________________________________________________________________\n",
            "None\n"
          ]
        }
      ]
    },
    {
      "cell_type": "code",
      "source": [
        "# Building the model\n",
        "model = Sequential()\n",
        "model.add(Dense(25, activation='custom_activation', input_dim=1))\n",
        "#model.add(Dropout(.2))\n",
        "model.add(Dense(25, activation='custom_activation'))\n",
        "#model.add(Dropout(.1))\n",
        "model.add(Dense(25, activation='custom_activation'))\n",
        "#model.add(Dense(25, activation='custom_activation'))\n",
        "model.add(Dense(1, activation='linear'))\n",
        "\n",
        "optimizer = tf.keras.optimizers.Adam()\n",
        "\n",
        "# Compiling the model\n",
        "#sgd = SGD(lr=0.001, decay=0, momentum=0.9, nesterov=True)\n",
        "model.compile(loss = 'mean_absolute_percentage_error', optimizer=optimizer)\n",
        "model.summary()"
      ],
      "metadata": {
        "colab": {
          "base_uri": "https://localhost:8080/"
        },
        "id": "dfSphDs-Vinr",
        "outputId": "30dd6167-c2fa-463b-a4cc-2d2bcf1ad241"
      },
      "execution_count": 56,
      "outputs": [
        {
          "output_type": "stream",
          "name": "stdout",
          "text": [
            "Model: \"sequential_15\"\n",
            "_________________________________________________________________\n",
            " Layer (type)                Output Shape              Param #   \n",
            "=================================================================\n",
            " dense_57 (Dense)            (None, 25)                50        \n",
            "                                                                 \n",
            " dense_58 (Dense)            (None, 25)                650       \n",
            "                                                                 \n",
            " dense_59 (Dense)            (None, 25)                650       \n",
            "                                                                 \n",
            " dense_60 (Dense)            (None, 1)                 26        \n",
            "                                                                 \n",
            "=================================================================\n",
            "Total params: 1,376\n",
            "Trainable params: 1,376\n",
            "Non-trainable params: 0\n",
            "_________________________________________________________________\n"
          ]
        }
      ]
    },
    {
      "cell_type": "code",
      "source": [
        "model.fit(X_scaled, y_scaled, epochs=1000, verbose=0)\n",
        "score = model.evaluate(X_test, y_test)\n",
        "yhat=model.predict(X_test)\n",
        "plt.scatter(yhat,y_test)"
      ],
      "metadata": {
        "colab": {
          "base_uri": "https://localhost:8080/",
          "height": 300
        },
        "id": "N3w_Lq9AWc1v",
        "outputId": "f031d83e-2188-49a9-e449-4c56a57b3598"
      },
      "execution_count": 57,
      "outputs": [
        {
          "output_type": "stream",
          "name": "stdout",
          "text": [
            "6/6 [==============================] - 0s 3ms/step - loss: 102.7576\n"
          ]
        },
        {
          "output_type": "execute_result",
          "data": {
            "text/plain": [
              "<matplotlib.collections.PathCollection at 0x7f6f46dc3c90>"
            ]
          },
          "metadata": {},
          "execution_count": 57
        },
        {
          "output_type": "display_data",
          "data": {
            "image/png": "[encoded data removed]",
            "text/plain": [
              "<Figure size 432x288 with 1 Axes>"
            ]
          },
          "metadata": {
            "needs_background": "light"
          }
        }
      ]
    },
    {
      "cell_type": "code",
      "source": [
        "score"
      ],
      "metadata": {
        "colab": {
          "base_uri": "https://localhost:8080/"
        },
        "id": "1UUAeyHLWo9V",
        "outputId": "6a4e5ee9-10a0-4faa-e9ad-2fd32910919b"
      },
      "execution_count": 58,
      "outputs": [
        {
          "output_type": "execute_result",
          "data": {
            "text/plain": [
              "102.75761413574219"
            ]
          },
          "metadata": {},
          "execution_count": 58
        }
      ]
    },
    {
      "cell_type": "code",
      "source": [
        ""
      ],
      "metadata": {
        "id": "Yohp6NsgWyJu"
      },
      "execution_count": null,
      "outputs": []
    }
  ]
}